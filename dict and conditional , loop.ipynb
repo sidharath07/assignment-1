{
 "cells": [
  {
   "cell_type": "code",
   "execution_count": 1,
   "id": "059e1955-6916-4629-aabb-bf926905bae0",
   "metadata": {},
   "outputs": [],
   "source": [
    "d = {}"
   ]
  },
  {
   "cell_type": "code",
   "execution_count": 2,
   "id": "161d822f-f01b-4150-ac17-f455f903177c",
   "metadata": {},
   "outputs": [
    {
     "data": {
      "text/plain": [
       "{}"
      ]
     },
     "execution_count": 2,
     "metadata": {},
     "output_type": "execute_result"
    }
   ],
   "source": [
    "d"
   ]
  },
  {
   "cell_type": "code",
   "execution_count": 3,
   "id": "4e14ae31-1914-4725-837d-6ca78ae985af",
   "metadata": {},
   "outputs": [
    {
     "data": {
      "text/plain": [
       "dict"
      ]
     },
     "execution_count": 3,
     "metadata": {},
     "output_type": "execute_result"
    }
   ],
   "source": [
    "type(d)"
   ]
  },
  {
   "cell_type": "code",
   "execution_count": 5,
   "id": "3c20cb15-04ca-4d31-9262-12494d2f9491",
   "metadata": {},
   "outputs": [],
   "source": [
    "d1 = {'key word' : \"sid\"}"
   ]
  },
  {
   "cell_type": "code",
   "execution_count": 6,
   "id": "0ff05d10-54e7-4c61-9588-8f9b2f6e9682",
   "metadata": {},
   "outputs": [
    {
     "data": {
      "text/plain": [
       "{'key word': 'sid'}"
      ]
     },
     "execution_count": 6,
     "metadata": {},
     "output_type": "execute_result"
    }
   ],
   "source": [
    "d1"
   ]
  },
  {
   "cell_type": "code",
   "execution_count": 7,
   "id": "f2c92ad3-ad14-4534-9238-55045535cb75",
   "metadata": {},
   "outputs": [],
   "source": [
    "d2 = {'my name' : \"sidharth singh\", 'my gmail' : \"ss@gmail.com\" , 'no' : \"9155550806\" }"
   ]
  },
  {
   "cell_type": "code",
   "execution_count": 8,
   "id": "0abf145d-1d0a-4d6c-9fb3-4beb1d97b839",
   "metadata": {},
   "outputs": [
    {
     "data": {
      "text/plain": [
       "{'my name ': 'sidharth singh', 'my gmail': 'ss@gmail.com', 'no': '9155550806'}"
      ]
     },
     "execution_count": 8,
     "metadata": {},
     "output_type": "execute_result"
    }
   ],
   "source": [
    "d2"
   ]
  },
  {
   "cell_type": "code",
   "execution_count": 9,
   "id": "d8a22c05-9272-41c7-a637-199b1edbe4ad",
   "metadata": {},
   "outputs": [],
   "source": [
    "d3 = {343 : \"sidharth\" , '@wer' : \"kumar\" , 'True': \"9155550806\"}"
   ]
  },
  {
   "cell_type": "code",
   "execution_count": 10,
   "id": "e4171393-4b2a-424e-a5c2-f79c7d812374",
   "metadata": {},
   "outputs": [
    {
     "data": {
      "text/plain": [
       "{343: 'sidharth', '@wer': 'kumar', 'True': '9155550806'}"
      ]
     },
     "execution_count": 10,
     "metadata": {},
     "output_type": "execute_result"
    }
   ],
   "source": [
    "d3"
   ]
  },
  {
   "cell_type": "code",
   "execution_count": 11,
   "id": "1d3d1b9b-b547-480b-beeb-65666f8137bf",
   "metadata": {},
   "outputs": [
    {
     "data": {
      "text/plain": [
       "'9155550806'"
      ]
     },
     "execution_count": 11,
     "metadata": {},
     "output_type": "execute_result"
    }
   ],
   "source": [
    "d3['True']"
   ]
  },
  {
   "cell_type": "code",
   "execution_count": 13,
   "id": "8bf3e0d7-c3a0-4719-bbbf-c1e2a31a0c77",
   "metadata": {},
   "outputs": [
    {
     "data": {
      "text/plain": [
       "'sidharth'"
      ]
     },
     "execution_count": 13,
     "metadata": {},
     "output_type": "execute_result"
    }
   ],
   "source": [
    "d3[343]"
   ]
  },
  {
   "cell_type": "code",
   "execution_count": 16,
   "id": "c00209a2-2b06-4dce-ae11-c5e60cbde7e5",
   "metadata": {},
   "outputs": [
    {
     "data": {
      "text/plain": [
       "'9155550806'"
      ]
     },
     "execution_count": 16,
     "metadata": {},
     "output_type": "execute_result"
    }
   ],
   "source": [
    "d3 ['True']"
   ]
  },
  {
   "cell_type": "code",
   "execution_count": 17,
   "id": "70f039db-2fcb-4b42-bb4d-c6c87662eab3",
   "metadata": {},
   "outputs": [],
   "source": [
    "d4 = {'name' : \"sid\" , 'mail': \"ssgmail@\" , 'name' : \"sidharth\"}"
   ]
  },
  {
   "cell_type": "code",
   "execution_count": 19,
   "id": "b2c24355-b19f-40c9-a6a7-78dc5750fa3a",
   "metadata": {},
   "outputs": [
    {
     "data": {
      "text/plain": [
       "'sidharth'"
      ]
     },
     "execution_count": 19,
     "metadata": {},
     "output_type": "execute_result"
    }
   ],
   "source": [
    "d4['name']"
   ]
  },
  {
   "cell_type": "code",
   "execution_count": 20,
   "id": "130e9bf6-d8be-48b3-b1ea-31f1d91dbd1c",
   "metadata": {},
   "outputs": [],
   "source": [
    "d5 = { \"company\" :\"pwskills\" , \"course\" : [\"web dev\" ,\"data science \",\"java with dsa systum\"]}"
   ]
  },
  {
   "cell_type": "code",
   "execution_count": 21,
   "id": "4e24e06b-29a6-47a5-98fd-7e22fb7f4390",
   "metadata": {},
   "outputs": [
    {
     "data": {
      "text/plain": [
       "{'company': 'pwskills',\n",
       " 'course': ['web dev', 'data science ', 'java with dsa systum']}"
      ]
     },
     "execution_count": 21,
     "metadata": {},
     "output_type": "execute_result"
    }
   ],
   "source": [
    "d5"
   ]
  },
  {
   "cell_type": "code",
   "execution_count": 22,
   "id": "0162f6bb-4095-4598-9540-9fcf495c66f8",
   "metadata": {},
   "outputs": [
    {
     "data": {
      "text/plain": [
       "['web dev', 'data science ', 'java with dsa systum']"
      ]
     },
     "execution_count": 22,
     "metadata": {},
     "output_type": "execute_result"
    }
   ],
   "source": [
    "d5[\"course\"]"
   ]
  },
  {
   "cell_type": "code",
   "execution_count": 23,
   "id": "6b29729d-f6f8-4930-892f-f6d95dfe12bd",
   "metadata": {},
   "outputs": [
    {
     "data": {
      "text/plain": [
       "'data science '"
      ]
     },
     "execution_count": 23,
     "metadata": {},
     "output_type": "execute_result"
    }
   ],
   "source": [
    "d5[\"course\"][1]"
   ]
  },
  {
   "cell_type": "code",
   "execution_count": 25,
   "id": "f0301a56-434d-4f5e-9111-45294bbf9bf6",
   "metadata": {},
   "outputs": [
    {
     "data": {
      "text/plain": [
       "'web dev'"
      ]
     },
     "execution_count": 25,
     "metadata": {},
     "output_type": "execute_result"
    }
   ],
   "source": [
    "d5[\"course\"][0]"
   ]
  },
  {
   "cell_type": "code",
   "execution_count": 26,
   "id": "97204855-0852-4f0c-b42b-4696e37cd90a",
   "metadata": {},
   "outputs": [
    {
     "data": {
      "text/plain": [
       "'java with dsa systum'"
      ]
     },
     "execution_count": 26,
     "metadata": {},
     "output_type": "execute_result"
    }
   ],
   "source": [
    "d5[\"course\"][2]"
   ]
  },
  {
   "cell_type": "code",
   "execution_count": 33,
   "id": "b757b16a-4324-4805-b0c9-e5d71dc2c354",
   "metadata": {},
   "outputs": [],
   "source": [
    "d6 = {\"number\" : [2,34,23,43] , \"assignment\" : ( 1,2,13,) , \"launch date\" :{28,12,14} , \"class time\" :{\"web dev\": 8 , \"data science masters\" : 8 , \"java with dsa and system design\" : 7}}"
   ]
  },
  {
   "cell_type": "code",
   "execution_count": 35,
   "id": "860ff511-5ebe-41d0-9d0c-985336c03fb9",
   "metadata": {},
   "outputs": [
    {
     "data": {
      "text/plain": [
       "{'number': [2, 34, 23, 43],\n",
       " 'assignment': (1, 2, 13),\n",
       " 'launch date': {12, 14, 28},\n",
       " 'class time': {'web dev': 8,\n",
       "  'data science masters': 8,\n",
       "  'java with dsa and system design': 7}}"
      ]
     },
     "execution_count": 35,
     "metadata": {},
     "output_type": "execute_result"
    }
   ],
   "source": [
    "d6"
   ]
  },
  {
   "cell_type": "code",
   "execution_count": 39,
   "id": "a5ea6bb9-6646-440e-9e98-291d436d6415",
   "metadata": {},
   "outputs": [
    {
     "data": {
      "text/plain": [
       "7"
      ]
     },
     "execution_count": 39,
     "metadata": {},
     "output_type": "execute_result"
    }
   ],
   "source": [
    "d6['class time'][ 'java with dsa and system design']"
   ]
  },
  {
   "cell_type": "code",
   "execution_count": 40,
   "id": "8fb4b9b8-f025-4366-9de0-4727f5658013",
   "metadata": {},
   "outputs": [
    {
     "data": {
      "text/plain": [
       "{'number': [2, 34, 23, 43],\n",
       " 'assignment': (1, 2, 13),\n",
       " 'launch date': {12, 14, 28},\n",
       " 'class time': {'web dev': 8,\n",
       "  'data science masters': 8,\n",
       "  'java with dsa and system design': 7}}"
      ]
     },
     "execution_count": 40,
     "metadata": {},
     "output_type": "execute_result"
    }
   ],
   "source": [
    "d6"
   ]
  },
  {
   "cell_type": "code",
   "execution_count": 41,
   "id": "8dbd03eb-9530-4281-a6ba-4c32e379ba4d",
   "metadata": {},
   "outputs": [],
   "source": [
    "d6['mantor'] = ['sidharth singh', 'krish']"
   ]
  },
  {
   "cell_type": "code",
   "execution_count": 42,
   "id": "d23f00a7-b2f2-41d2-bb04-dc9be3a8a06a",
   "metadata": {},
   "outputs": [
    {
     "data": {
      "text/plain": [
       "{'number': [2, 34, 23, 43],\n",
       " 'assignment': (1, 2, 13),\n",
       " 'launch date': {12, 14, 28},\n",
       " 'class time': {'web dev': 8,\n",
       "  'data science masters': 8,\n",
       "  'java with dsa and system design': 7},\n",
       " 'mantor': ['sidharth singh', 'krish']}"
      ]
     },
     "execution_count": 42,
     "metadata": {},
     "output_type": "execute_result"
    }
   ],
   "source": [
    "d6"
   ]
  },
  {
   "cell_type": "code",
   "execution_count": 43,
   "id": "d8d8580e-b892-4b1b-a1ef-a72f645f43a6",
   "metadata": {},
   "outputs": [],
   "source": [
    "del d6['number']"
   ]
  },
  {
   "cell_type": "code",
   "execution_count": 44,
   "id": "a1fbc501-9f28-41dd-a4f0-b0099f7acd2c",
   "metadata": {},
   "outputs": [
    {
     "data": {
      "text/plain": [
       "{'assignment': (1, 2, 13),\n",
       " 'launch date': {12, 14, 28},\n",
       " 'class time': {'web dev': 8,\n",
       "  'data science masters': 8,\n",
       "  'java with dsa and system design': 7},\n",
       " 'mantor': ['sidharth singh', 'krish']}"
      ]
     },
     "execution_count": 44,
     "metadata": {},
     "output_type": "execute_result"
    }
   ],
   "source": [
    "d6"
   ]
  },
  {
   "cell_type": "code",
   "execution_count": 47,
   "id": "dc6e259d-0d4f-4890-81a9-80549e91cf54",
   "metadata": {},
   "outputs": [],
   "source": [
    "d6['number'] = ['2, 34, 23, 43']"
   ]
  },
  {
   "cell_type": "code",
   "execution_count": 48,
   "id": "f2f0f46b-18d6-4c57-b357-eba966080dbe",
   "metadata": {},
   "outputs": [
    {
     "data": {
      "text/plain": [
       "{'assignment': (1, 2, 13),\n",
       " 'launch date': {12, 14, 28},\n",
       " 'class time': {'web dev': 8,\n",
       "  'data science masters': 8,\n",
       "  'java with dsa and system design': 7},\n",
       " 'mantor': ['sidharth singh', 'krish'],\n",
       " 'number': ['2, 34, 23, 43']}"
      ]
     },
     "execution_count": 48,
     "metadata": {},
     "output_type": "execute_result"
    }
   ],
   "source": [
    "d6"
   ]
  },
  {
   "cell_type": "code",
   "execution_count": 52,
   "id": "3d82343d-b72a-4e53-89d8-69a77a5f448f",
   "metadata": {},
   "outputs": [
    {
     "data": {
      "text/plain": [
       "['assignment', 'launch date', 'class time', 'mantor', 'number']"
      ]
     },
     "execution_count": 52,
     "metadata": {},
     "output_type": "execute_result"
    }
   ],
   "source": [
    "list(d6.keys())"
   ]
  },
  {
   "cell_type": "code",
   "execution_count": 55,
   "id": "7e58db38-f8b7-4d12-89aa-7d281e7e0727",
   "metadata": {},
   "outputs": [
    {
     "data": {
      "text/plain": [
       "[(1, 2, 13),\n",
       " {12, 14, 28},\n",
       " {'web dev': 8,\n",
       "  'data science masters': 8,\n",
       "  'java with dsa and system design': 7},\n",
       " ['sidharth singh', 'krish'],\n",
       " ['2, 34, 23, 43']]"
      ]
     },
     "execution_count": 55,
     "metadata": {},
     "output_type": "execute_result"
    }
   ],
   "source": [
    "list(d6.values())"
   ]
  },
  {
   "cell_type": "code",
   "execution_count": 56,
   "id": "8a34f942-6cb1-4e06-ad29-427adfcdd91d",
   "metadata": {},
   "outputs": [
    {
     "data": {
      "text/plain": [
       "[('assignment', (1, 2, 13)),\n",
       " ('launch date', {12, 14, 28}),\n",
       " ('class time',\n",
       "  {'web dev': 8,\n",
       "   'data science masters': 8,\n",
       "   'java with dsa and system design': 7}),\n",
       " ('mantor', ['sidharth singh', 'krish']),\n",
       " ('number', ['2, 34, 23, 43'])]"
      ]
     },
     "execution_count": 56,
     "metadata": {},
     "output_type": "execute_result"
    }
   ],
   "source": [
    "list(d6.items())"
   ]
  },
  {
   "cell_type": "code",
   "execution_count": 57,
   "id": "ca99caa1-64ae-4aae-b885-5d8dc86dcf7c",
   "metadata": {},
   "outputs": [
    {
     "data": {
      "text/plain": [
       "(1, 2, 13)"
      ]
     },
     "execution_count": 57,
     "metadata": {},
     "output_type": "execute_result"
    }
   ],
   "source": [
    "d6.pop('assignment')"
   ]
  },
  {
   "cell_type": "code",
   "execution_count": 58,
   "id": "d5d3cbef-fced-42f9-b989-09a7a7082fc4",
   "metadata": {},
   "outputs": [
    {
     "data": {
      "text/plain": [
       "{'launch date': {12, 14, 28},\n",
       " 'class time': {'web dev': 8,\n",
       "  'data science masters': 8,\n",
       "  'java with dsa and system design': 7},\n",
       " 'mantor': ['sidharth singh', 'krish'],\n",
       " 'number': ['2, 34, 23, 43']}"
      ]
     },
     "execution_count": 58,
     "metadata": {},
     "output_type": "execute_result"
    }
   ],
   "source": [
    "d6"
   ]
  },
  {
   "cell_type": "code",
   "execution_count": null,
   "id": "2e3ad8f6-ce5a-4661-8a58-bcfc5120507b",
   "metadata": {},
   "outputs": [],
   "source": [
    "d6.pop()"
   ]
  },
  {
   "cell_type": "code",
   "execution_count": 71,
   "id": "257056d8-240c-4c21-bef2-86d8c152e03b",
   "metadata": {},
   "outputs": [
    {
     "name": "stdin",
     "output_type": "stream",
     "text": [
      "enter your marks 90\n"
     ]
    },
    {
     "name": "stdout",
     "output_type": "stream",
     "text": [
      "you will be a part of A0 batch\n"
     ]
    }
   ],
   "source": [
    "marks = int(input(\"enter your marks\"))\n",
    "if marks >= 80:\n",
    "    print(\"you will be a part of A0 batch\")\n",
    "elif marks >= 60 and marks < 80:\n",
    "    print(\"youwill be a part of A1 batch\")\n",
    "elif marks >=40 and marks < 60:\n",
    "    print(\"you will be a part of A2 batch\")\n",
    "else :\n",
    "    print(\"you will be a part of A3 batch\")"
   ]
  },
  {
   "cell_type": "code",
   "execution_count": 72,
   "id": "6a4a8226-7bd1-4c4e-89ff-098490b326d3",
   "metadata": {},
   "outputs": [
    {
     "name": "stdin",
     "output_type": "stream",
     "text": [
      "enter your marks 50\n"
     ]
    }
   ],
   "source": [
    "marks = int(input(\"enter your marks\"))"
   ]
  },
  {
   "cell_type": "code",
   "execution_count": 73,
   "id": "cc206d77-532b-43ef-9135-5009206ad7d8",
   "metadata": {},
   "outputs": [
    {
     "data": {
      "text/plain": [
       "50"
      ]
     },
     "execution_count": 73,
     "metadata": {},
     "output_type": "execute_result"
    }
   ],
   "source": [
    "marks"
   ]
  },
  {
   "cell_type": "code",
   "execution_count": 74,
   "id": "ef0b25fc-278f-4b86-a29a-b1f2711a633b",
   "metadata": {},
   "outputs": [
    {
     "data": {
      "text/plain": [
       "int"
      ]
     },
     "execution_count": 74,
     "metadata": {},
     "output_type": "execute_result"
    }
   ],
   "source": [
    "type(marks)"
   ]
  },
  {
   "cell_type": "code",
   "execution_count": 79,
   "id": "65c30b1e-aaaa-482f-9e76-5f0f5c5bb426",
   "metadata": {},
   "outputs": [
    {
     "name": "stdin",
     "output_type": "stream",
     "text": [
      "enter price 1200\n"
     ]
    },
    {
     "name": "stdout",
     "output_type": "stream",
     "text": [
      "i will not purchase\n"
     ]
    }
   ],
   "source": [
    "price = int(input(\"enter price\"))\n",
    "if price  > 1000:\n",
    "    print(\"i will not purchase\")\n",
    "else :\n",
    "    print(\"i will purchase\")\n"
   ]
  },
  {
   "cell_type": "code",
   "execution_count": 84,
   "id": "d8464b44-5e22-40df-bc44-b6b5a74be1f2",
   "metadata": {},
   "outputs": [
    {
     "name": "stdin",
     "output_type": "stream",
     "text": [
      "enter your price 6000\n"
     ]
    },
    {
     "name": "stdout",
     "output_type": "stream",
     "text": [
      "i will not purchase\n"
     ]
    }
   ],
   "source": [
    "price = int(input(\"enter your price\"))\n",
    "if price > 5000:\n",
    "     print(\"i will not purchase\")\n",
    "else : \n",
    "     print(\" i will purchase\")"
   ]
  },
  {
   "cell_type": "code",
   "execution_count": 98,
   "id": "cf9506cd-3160-4aee-a1c2-20a8bb4d3bbe",
   "metadata": {},
   "outputs": [
    {
     "name": "stdin",
     "output_type": "stream",
     "text": [
      "enter your price 6000\n"
     ]
    },
    {
     "name": "stdout",
     "output_type": "stream",
     "text": [
      "i will not purchase\n",
      "it is to much\n"
     ]
    }
   ],
   "source": [
    "price = int(input(\"enter your price\"))\n",
    "if price > 3000:\n",
    "            print(\"i will not purchase\")\n",
    "if price > 5000:\n",
    "            print(\"it is to much\")\n",
    "elif price >2000:\n",
    "            print(\"it is ok\")\n",
    "elif price > 1500:\n",
    "            print(\"i will thinking\")"
   ]
  },
  {
   "cell_type": "code",
   "execution_count": 99,
   "id": "96a10bbc-cc61-4a26-a106-285643427911",
   "metadata": {},
   "outputs": [],
   "source": [
    "l = [1,2,3,4,5,6,7,8] "
   ]
  },
  {
   "cell_type": "code",
   "execution_count": 102,
   "id": "57de29dc-102c-4829-b4e8-015b32e481c5",
   "metadata": {},
   "outputs": [
    {
     "name": "stdout",
     "output_type": "stream",
     "text": [
      "2\n",
      "3\n",
      "4\n",
      "5\n",
      "6\n",
      "7\n",
      "8\n",
      "9\n"
     ]
    }
   ],
   "source": [
    "l1 = []\n",
    "for i in l :\n",
    "    print(i+1)\n",
    "    l1.append(i+1)"
   ]
  },
  {
   "cell_type": "code",
   "execution_count": 103,
   "id": "897809a4-2622-4c97-afc4-46a354249ebe",
   "metadata": {},
   "outputs": [
    {
     "data": {
      "text/plain": [
       "[2, 3, 4, 5, 6, 7, 8, 9]"
      ]
     },
     "execution_count": 103,
     "metadata": {},
     "output_type": "execute_result"
    }
   ],
   "source": [
    "l1"
   ]
  },
  {
   "cell_type": "code",
   "execution_count": 104,
   "id": "14a359e2-a0b5-425e-992b-650df64b2b94",
   "metadata": {},
   "outputs": [
    {
     "data": {
      "text/plain": [
       "[1, 2, 3, 4, 5, 6, 7, 8]"
      ]
     },
     "execution_count": 104,
     "metadata": {},
     "output_type": "execute_result"
    }
   ],
   "source": [
    "l"
   ]
  },
  {
   "cell_type": "code",
   "execution_count": 105,
   "id": "3633e547-cd7e-4d7b-b7c4-42dbd4c4c8e6",
   "metadata": {},
   "outputs": [],
   "source": [
    "l = [\"sudh\" , \"kumar\" , \"pwskills\" , \"course\"]"
   ]
  },
  {
   "cell_type": "code",
   "execution_count": 106,
   "id": "1c587c86-9cb9-4be4-b857-a6c5c6fbdabd",
   "metadata": {},
   "outputs": [
    {
     "name": "stdout",
     "output_type": "stream",
     "text": [
      "sudh\n",
      "kumar\n",
      "pwskills\n",
      "course\n"
     ]
    }
   ],
   "source": [
    "l2 = []\n",
    "for i in l :\n",
    "    print(i)\n",
    "    l2.append(i.upper())\n",
    "    "
   ]
  },
  {
   "cell_type": "code",
   "execution_count": 107,
   "id": "f57bcad2-4ae3-4de0-be7f-3efc61b9706b",
   "metadata": {},
   "outputs": [
    {
     "data": {
      "text/plain": [
       "['SUDH', 'KUMAR', 'PWSKILLS', 'COURSE']"
      ]
     },
     "execution_count": 107,
     "metadata": {},
     "output_type": "execute_result"
    }
   ],
   "source": [
    "l2"
   ]
  },
  {
   "cell_type": "code",
   "execution_count": 110,
   "id": "a2af6a18-3745-4a8b-9e76-debdfbebe8df",
   "metadata": {},
   "outputs": [
    {
     "name": "stdout",
     "output_type": "stream",
     "text": [
      "sudh\n",
      "kumar\n",
      "pwskills\n",
      "course\n"
     ]
    }
   ],
   "source": [
    "l3 = []\n",
    "for i in l :\n",
    "    print(i)\n",
    "    l3.append(i.upper())\n",
    "    "
   ]
  },
  {
   "cell_type": "code",
   "execution_count": 111,
   "id": "ecdc65cf-e717-48bc-bbab-520173f35721",
   "metadata": {},
   "outputs": [
    {
     "data": {
      "text/plain": [
       "['SUDH', 'KUMAR', 'PWSKILLS', 'COURSE']"
      ]
     },
     "execution_count": 111,
     "metadata": {},
     "output_type": "execute_result"
    }
   ],
   "source": [
    "l3"
   ]
  },
  {
   "cell_type": "code",
   "execution_count": 14,
   "id": "38d4cb5f-7a38-4ced-84f4-5701c919501b",
   "metadata": {},
   "outputs": [],
   "source": [
    "l = [1,2,3,4,5,6,\"sidharth\" , \"kumar\" , 324,5.2,73, \"abc\"]"
   ]
  },
  {
   "cell_type": "code",
   "execution_count": 15,
   "id": "35357b44-1608-4301-91fd-e1d3a7ce89ac",
   "metadata": {},
   "outputs": [],
   "source": [
    "l1_num = []\n",
    "l2_str = []\n",
    "for i in l :\n",
    "    if type(i) == int or type(i) == float :\n",
    "        l1_num.append(i)\n",
    "    else :\n",
    "        l2_str.append(i)"
   ]
  },
  {
   "cell_type": "code",
   "execution_count": 16,
   "id": "c5d63eaa-2655-4112-b9b3-74589cc45b76",
   "metadata": {},
   "outputs": [
    {
     "data": {
      "text/plain": [
       "[1, 2, 3, 4, 5, 6, 324, 5.2, 73]"
      ]
     },
     "execution_count": 16,
     "metadata": {},
     "output_type": "execute_result"
    }
   ],
   "source": [
    "l1_num"
   ]
  },
  {
   "cell_type": "code",
   "execution_count": 17,
   "id": "0bea48ba-9b69-47fe-9af7-74201f47db91",
   "metadata": {},
   "outputs": [
    {
     "data": {
      "text/plain": [
       "['sidharth', 'kumar', 'abc']"
      ]
     },
     "execution_count": 17,
     "metadata": {},
     "output_type": "execute_result"
    }
   ],
   "source": [
    "l2_str"
   ]
  },
  {
   "cell_type": "code",
   "execution_count": null,
   "id": "861a7167-a01b-41d0-8e7a-0497375a6134",
   "metadata": {},
   "outputs": [],
   "source": []
  }
 ],
 "metadata": {
  "kernelspec": {
   "display_name": "Python 3 (ipykernel)",
   "language": "python",
   "name": "python3"
  },
  "language_info": {
   "codemirror_mode": {
    "name": "ipython",
    "version": 3
   },
   "file_extension": ".py",
   "mimetype": "text/x-python",
   "name": "python",
   "nbconvert_exporter": "python",
   "pygments_lexer": "ipython3",
   "version": "3.10.8"
  }
 },
 "nbformat": 4,
 "nbformat_minor": 5
}
